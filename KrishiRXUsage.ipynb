{
 "cells": [
  {
   "cell_type": "code",
   "execution_count": 2,
   "metadata": {},
   "outputs": [],
   "source": [
    "import tensorflow as tf\n",
    "import numpy as np\n",
    "import cv2\n",
    "\n",
    "# Load the trained model\n",
    "model = tf.keras.models.load_model(\"plant_disease_model.h5\")"
   ]
  },
  {
   "cell_type": "code",
   "execution_count": 3,
   "metadata": {},
   "outputs": [],
   "source": [
    "def preprocess_image(image_path):\n",
    "    image = cv2.imread(image_path)  # Read image\n",
    "    image = cv2.cvtColor(image, cv2.COLOR_BGR2RGB)  # Convert to RGB\n",
    "    image = cv2.resize(image, (224, 224))  # Resize to match input size\n",
    "    image = image / 255.0  # Normalize pixel values\n",
    "    image = np.expand_dims(image, axis=0)  # Add batch dimension\n",
    "    return image"
   ]
  },
  {
   "cell_type": "code",
   "execution_count": 10,
   "metadata": {},
   "outputs": [
    {
     "name": "stdout",
     "output_type": "stream",
     "text": [
      "1/1 [==============================] - 0s 22ms/step\n",
      "Predicted Disease: Grape_black_rot (Confidence: 0.93)\n"
     ]
    }
   ],
   "source": [
    "def predict_disease(image_path, model, class_names):\n",
    "    image = preprocess_image(image_path)\n",
    "    predictions = model.predict(image)\n",
    "    predicted_class = np.argmax(predictions)  # Get index of highest probability\n",
    "    confidence = np.max(predictions)  # Confidence score\n",
    "    return class_names[predicted_class], confidence\n",
    "\n",
    "# Example usage\n",
    "image_path = \"customPlant.jpeg\"  # Change this to your test image path\n",
    "class_names = ['Apple_scab', 'Apple_black_rot', 'Apple_cedar_apple_rust', 'Apple_healthy', \n",
    "               'Background_without_leaves', 'Blueberry_healthy', 'Cherry_powdery_mildew', \n",
    "               'Cherry_healthy', 'Corn_gray_leaf_spot', 'Corn_common_rust', 'Corn_northern_leaf_blight', \n",
    "               'Corn_healthy', 'Grape_black_rot', 'Grape_black_measles', 'Grape_leaf_blight', \n",
    "               'Grape_healthy', 'Orange_haunglongbing', 'Peach_bacterial_spot', 'Peach_healthy', \n",
    "               'Pepper_bacterial_spot', 'Pepper_healthy', 'Potato_early_blight', 'Potato_healthy', \n",
    "               'Potato_late_blight', 'Raspberry_healthy', 'Soybean_healthy', 'Squash_powdery_mildew', \n",
    "               'Strawberry_healthy', 'Strawberry_leaf_scorch', 'Tomato_bacterial_spot', 'Tomato_early_blight', \n",
    "               'Tomato_healthy', 'Tomato_late_blight', 'Tomato_leaf_mold', 'Tomato_septoria_leaf_spot', \n",
    "               'Tomato_spider_mites_two-spotted_spider_mite', 'Tomato_target_spot', 'Tomato_mosaic_virus', \n",
    "               'Tomato_yellow_leaf_curl_virus']\n",
    "\n",
    "predicted_label, confidence = predict_disease(image_path, model, class_names)\n",
    "print(f\"Predicted Disease: {predicted_label} (Confidence: {confidence:.2f})\")\n"
   ]
  }
 ],
 "metadata": {
  "kernelspec": {
   "display_name": "miniProject",
   "language": "python",
   "name": "python3"
  },
  "language_info": {
   "codemirror_mode": {
    "name": "ipython",
    "version": 3
   },
   "file_extension": ".py",
   "mimetype": "text/x-python",
   "name": "python",
   "nbconvert_exporter": "python",
   "pygments_lexer": "ipython3",
   "version": "3.9.15"
  }
 },
 "nbformat": 4,
 "nbformat_minor": 2
}
